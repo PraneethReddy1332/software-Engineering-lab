{
  "nbformat": 4,
  "nbformat_minor": 0,
  "metadata": {
    "colab": {
      "provenance": [],
      "authorship_tag": "ABX9TyMzaUBiv4kVpPJ1JUO9zbvT",
      "include_colab_link": true
    },
    "kernelspec": {
      "name": "python3",
      "display_name": "Python 3"
    },
    "language_info": {
      "name": "python"
    }
  },
  "cells": [
    {
      "cell_type": "markdown",
      "metadata": {
        "id": "view-in-github",
        "colab_type": "text"
      },
      "source": [
        "<a href=\"https://colab.research.google.com/github/PraneethReddy1332/software-Engineering-lab/blob/main/SE_LAB_1.ipynb\" target=\"_parent\"><img src=\"https://colab.research.google.com/assets/colab-badge.svg\" alt=\"Open In Colab\"/></a>"
      ]
    },
    {
      "cell_type": "code",
      "execution_count": 1,
      "metadata": {
        "id": "1I_XO66iKgrH"
      },
      "outputs": [],
      "source": []
    },
    {
      "cell_type": "markdown",
      "source": [
        "Implement weather modeling* using the quadratic solution in stages: hard-coding variables keyboard input, read from a file, for a single set of input, multiple sets of inputs. a. save all versions, debug, fix problems, create a Github account\n",
        "\n",
        "Implementation outline for weather modeling using a quadratic solution. The approach evolves in stages:\n",
        "\n",
        "Hardcoding variables. Accepting variables via keyboard input. Reading variables from a file. Processing a single set of inputs. Processing multiple sets of inputs. At the end, you will save the versions, debug, fix issues, and push the project to GitHub."
      ],
      "metadata": {
        "id": "4egyg2IGK9gj"
      }
    },
    {
      "cell_type": "code",
      "source": [
        "\n"
      ],
      "metadata": {
        "id": "8wroAjzoK-i7"
      },
      "execution_count": null,
      "outputs": []
    },
    {
      "cell_type": "markdown",
      "source": [
        "Stage 1: Hardcoding Variables"
      ],
      "metadata": {
        "id": "uAbfguZOLGoI"
      }
    },
    {
      "cell_type": "code",
      "source": [
        "def calculate_weather(T: float, H: float, Wi: float) -> str:\n",
        "    W = 0.5 * T**2 - 0.2 * H + 0.1 * Wi - 15\n",
        "    if W < 0:\n",
        "        return \"Stormy\"\n",
        "    elif W < 10:\n",
        "        return \"Rainy\"\n",
        "    elif W < 20:\n",
        "        return \"Cloudy\"\n",
        "    else:\n",
        "        return \"Sunny\"\n",
        "\n",
        "T = 8\n",
        "H = 15\n",
        "Wi = 5\n",
        "\n",
        "weather = calculate_weather(T, H, Wi)\n",
        "print(\"Weather:\", weather)"
      ],
      "metadata": {
        "colab": {
          "base_uri": "https://localhost:8080/"
        },
        "id": "5jeJ5sv_LEaw",
        "outputId": "10073153-6d90-4dfc-e50c-d4a9d2136c35"
      },
      "execution_count": 2,
      "outputs": [
        {
          "output_type": "stream",
          "name": "stdout",
          "text": [
            "Weather: Cloudy\n"
          ]
        }
      ]
    },
    {
      "cell_type": "markdown",
      "source": [
        "Stage 2: Accepting variables via keyboard input\n"
      ],
      "metadata": {
        "id": "6JMYJcfALLyN"
      }
    },
    {
      "cell_type": "code",
      "source": [
        "# weather_modeling.py\n",
        "\n",
        "def calculate_weather(T: float, H: float, Wi: float) -> str:\n",
        "#equation calculation\n",
        "    W = 0.5 * T**2 - 0.2 * H + 0.1 * Wi - 15\n",
        "    if W < 0:\n",
        "        return \"Stormy\"\n",
        "    elif W < 10:\n",
        "        return \"Rainy\"\n",
        "    elif W < 20:\n",
        "        return \"Cloudy\"\n",
        "    else:\n",
        "        return \"Sunny\"\n",
        "\n",
        "def print_weather(weather):\n",
        "    print(\"Weather:\", weather)\n",
        "\n",
        "def main():\n",
        "    # Accept variables via keyboard input\n",
        "    T = float(input(\"Enter temperature: \"))\n",
        "    H = float(input(\"Enter humidity: \"))\n",
        "    Wi = float(input(\"Enter wind: \"))\n",
        "\n",
        "    # Calculating and print the weather\n",
        "    weather = calculate_weather(T, H, Wi)\n",
        "    print_weather(weather)\n",
        "\n",
        "if __name__ == \"__main__\":\n",
        "    main()"
      ],
      "metadata": {
        "colab": {
          "base_uri": "https://localhost:8080/"
        },
        "id": "oRW16xQvLOvI",
        "outputId": "ae25061d-24af-4189-efa8-fefeb180c9af"
      },
      "execution_count": 3,
      "outputs": [
        {
          "output_type": "stream",
          "name": "stdout",
          "text": [
            "Enter temperature: 34\n",
            "Enter humidity: 23.655\n",
            "Enter wind: 2345\n",
            "Weather: Sunny\n"
          ]
        }
      ]
    },
    {
      "cell_type": "markdown",
      "source": [
        "Stage 3: Reading variables from a file\n"
      ],
      "metadata": {
        "id": "8-ewTCo4LUgR"
      }
    },
    {
      "cell_type": "code",
      "source": [
        "def calculate_weather_index(temperature, humidity, wind_speed):\n",
        "    \"\"\"Calculate the weather index W based on the quadratic model.\"\"\"\n",
        "    W = 0.5 * temperature**2 - 0.2 * humidity + 0.1 * wind_speed - 15\n",
        "    return W\n",
        "\n",
        "def map_category(W):\n",
        "    \"\"\"Map the calculated W value to a weather category.\"\"\"\n",
        "    if W > 10:\n",
        "        return \"Sunny\"\n",
        "    elif 0 <= W <= 10:\n",
        "        return \"Cloudy\"\n",
        "    elif -10 < W < 0:\n",
        "        return \"Rainy\"\n",
        "    else:\n",
        "        return \"Stormy\"\n",
        "\n",
        "def read_data_from_file(file_path):\n",
        "    \"\"\"Read weather data from a file.\"\"\"\n",
        "    with open(file_path, 'r') as file:\n",
        "        data = []\n",
        "        for line in file:\n",
        "            # Split the line by spaces and convert to float\n",
        "            temperature, humidity, wind_speed = map(float, line.strip().split())\n",
        "            data.append((temperature, humidity, wind_speed))\n",
        "    return data\n",
        "\n",
        "def main():\n",
        "    # Read data from file\n",
        "    file_path = 'weather_data.txt.save'  # Ensure this file exists with the correct format\n",
        "    weather_data = read_data_from_file(file_path)\n",
        "\n",
        "    for temperature, humidity, wind_speed in weather_data:\n",
        "        # Calculate weather index\n",
        "        W = calculate_weather_index(temperature, humidity, wind_speed)\n",
        "\n",
        "        # Map to weather category\n",
        "        category = map_category(W)\n",
        "\n",
        "        # Output the result\n",
        "        print(f\"Weather prediction: {category}\")\n",
        "\n",
        "# Run the main function\n",
        "if __name__ == \"__main__\":\n",
        "    main()"
      ],
      "metadata": {
        "id": "nFgUsgbOLrif"
      },
      "execution_count": null,
      "outputs": []
    },
    {
      "cell_type": "markdown",
      "source": [
        "Stage 4: Processing a single set of inputs\n"
      ],
      "metadata": {
        "id": "R0_fwXTPLic_"
      }
    },
    {
      "cell_type": "code",
      "source": [
        "# weather_modeling.py\n",
        "\n",
        "def calculate_weather(t, H, W):\n",
        "\n",
        "    return 0.5 * t**2 - 0.2 * H + 0.1 * W - 15\n",
        "\n",
        "def determine_weather(weather_value):\n",
        "\n",
        "    if weather_value < -5:\n",
        "        return \"Stormy\"\n",
        "    elif weather_value < 0:\n",
        "        return \"Rainy\"\n",
        "    elif weather_value < 5:\n",
        "        return \"Cloudy\"\n",
        "    else:\n",
        "        return \"Sunny\"\n",
        "\n",
        "def process_input(temperature, humidity, wind_speed):\n",
        "\n",
        "    weather_value = calculate_weather(temperature, humidity, wind_speed)\n",
        "    weather = determine_weather(weather_value)\n",
        "    return weather\n",
        "\n",
        "def main():\n",
        "    # Get user input\n",
        "    temperature = float(input(\"Enter temperature (Sunny: 25, Cloudy: 20, Stormy: 15, Rainy: 10): \"))\n",
        "    humidity = float(input(\"Enter humidity (0-100): \"))\n",
        "    wind_speed = float(input(\"Enter wind speed (0-100): \"))\n",
        "\n",
        "    weather = process_input(temperature, humidity, wind_speed)\n",
        "    print(f\"Weather: {weather}\")\n",
        "\n",
        "if __name__ == \"__main__\":\n",
        "    main()"
      ],
      "metadata": {
        "colab": {
          "base_uri": "https://localhost:8080/"
        },
        "id": "PIu8AKxxLspY",
        "outputId": "eca741be-10da-4e1d-b5f1-00f408f4c4f7"
      },
      "execution_count": 5,
      "outputs": [
        {
          "output_type": "stream",
          "name": "stdout",
          "text": [
            "Enter temperature (Sunny: 25, Cloudy: 20, Stormy: 15, Rainy: 10): 22\n",
            "Enter humidity (0-100): 456\n",
            "Enter wind speed (0-100): 33\n",
            "Weather: Sunny\n"
          ]
        }
      ]
    },
    {
      "cell_type": "markdown",
      "source": [
        "Stage 5: Processing Multiple Sets of Inputs\n"
      ],
      "metadata": {
        "id": "r_Kx02LnLybB"
      }
    },
    {
      "cell_type": "code",
      "source": [
        "6# weather_modeling.py\n",
        "\n",
        "def calculate_weather(t, H, W):\n",
        "\n",
        "    return 0.5 * t**2 - 0.2 * H + 0.1 * W - 15\n",
        "\n",
        "def determine_weather(weather_value):\n",
        "\n",
        "    if weather_value < -5:\n",
        "        return \"Stormy\"\n",
        "    elif weather_value < 0:\n",
        "        return \"Rainy\"\n",
        "    elif weather_value < 5:\n",
        "        return \"Cloudy\"\n",
        "    else:\n",
        "        return \"Sunny\"\n",
        "\n",
        "def process_input(temperature, humidity, wind_speed):\n",
        "\n",
        "    weather_value = calculate_weather(temperature, humidity, wind_speed)\n",
        "    weather = determine_weather(weather_value)\n",
        "    return weather\n",
        "\n",
        "def process_multiple_inputs():\n",
        "\n",
        "    num_inputs = int(input(\"Enter the number of inputs: \"))\n",
        "\n",
        "    for i in range(num_inputs):\n",
        "        print(f\"Input {i+1}:\")\n",
        "        temperature = float(input(\"Enter temperature (Sunny: 25, Cloudy: 20, Stormy: 15, Rainy: 10): \"))\n",
        "        humidity = float(input(\"Enter humidity (0-100): \"))\n",
        "        wind_speed = float(input(\"Enter wind speed (0-100): \"))\n",
        "\n",
        "        weather = process_input(temperature, humidity, wind_speed)\n",
        "        print(f\"Weather: {weather}\\n\")\n",
        "\n",
        "def main():\n",
        "    # Process multiple sets of inputs\n",
        "    process_multiple_inputs()\n",
        "\n",
        "if __name__ == \"__main__\":\n",
        "    main()"
      ],
      "metadata": {
        "colab": {
          "base_uri": "https://localhost:8080/",
          "height": 689
        },
        "id": "Z-8TdimCL2Zx",
        "outputId": "2564e0e0-2238-4d69-b084-bdf7c7dd1026"
      },
      "execution_count": 6,
      "outputs": [
        {
          "output_type": "stream",
          "name": "stdout",
          "text": [
            "Enter the number of inputs: 33\n",
            "Input 1:\n",
            "Enter temperature (Sunny: 25, Cloudy: 20, Stormy: 15, Rainy: 10): 10\n",
            "Enter humidity (0-100): 23\n",
            "Enter wind speed (0-100): 56\n",
            "Weather: Sunny\n",
            "\n",
            "Input 2:\n",
            "Enter temperature (Sunny: 25, Cloudy: 20, Stormy: 15, Rainy: 10): 45\n",
            "Enter humidity (0-100): 56\n",
            "Enter wind speed (0-100): 89\n",
            "Weather: Sunny\n",
            "\n",
            "Input 3:\n",
            "Enter temperature (Sunny: 25, Cloudy: 20, Stormy: 15, Rainy: 10): 56\n",
            "Enter humidity (0-100): 565\n",
            "Enter wind speed (0-100): 45\n",
            "Weather: Sunny\n",
            "\n",
            "Input 4:\n"
          ]
        },
        {
          "output_type": "error",
          "ename": "KeyboardInterrupt",
          "evalue": "Interrupted by user",
          "traceback": [
            "\u001b[0;31m---------------------------------------------------------------------------\u001b[0m",
            "\u001b[0;31mKeyboardInterrupt\u001b[0m                         Traceback (most recent call last)",
            "\u001b[0;32m<ipython-input-6-9eda264a6100>\u001b[0m in \u001b[0;36m<cell line: 0>\u001b[0;34m()\u001b[0m\n\u001b[1;32m     40\u001b[0m \u001b[0;34m\u001b[0m\u001b[0m\n\u001b[1;32m     41\u001b[0m \u001b[0;32mif\u001b[0m \u001b[0m__name__\u001b[0m \u001b[0;34m==\u001b[0m \u001b[0;34m\"__main__\"\u001b[0m\u001b[0;34m:\u001b[0m\u001b[0;34m\u001b[0m\u001b[0;34m\u001b[0m\u001b[0m\n\u001b[0;32m---> 42\u001b[0;31m     \u001b[0mmain\u001b[0m\u001b[0;34m(\u001b[0m\u001b[0;34m)\u001b[0m\u001b[0;34m\u001b[0m\u001b[0;34m\u001b[0m\u001b[0m\n\u001b[0m",
            "\u001b[0;32m<ipython-input-6-9eda264a6100>\u001b[0m in \u001b[0;36mmain\u001b[0;34m()\u001b[0m\n\u001b[1;32m     37\u001b[0m \u001b[0;32mdef\u001b[0m \u001b[0mmain\u001b[0m\u001b[0;34m(\u001b[0m\u001b[0;34m)\u001b[0m\u001b[0;34m:\u001b[0m\u001b[0;34m\u001b[0m\u001b[0;34m\u001b[0m\u001b[0m\n\u001b[1;32m     38\u001b[0m     \u001b[0;31m# Process multiple sets of inputs\u001b[0m\u001b[0;34m\u001b[0m\u001b[0;34m\u001b[0m\u001b[0m\n\u001b[0;32m---> 39\u001b[0;31m     \u001b[0mprocess_multiple_inputs\u001b[0m\u001b[0;34m(\u001b[0m\u001b[0;34m)\u001b[0m\u001b[0;34m\u001b[0m\u001b[0;34m\u001b[0m\u001b[0m\n\u001b[0m\u001b[1;32m     40\u001b[0m \u001b[0;34m\u001b[0m\u001b[0m\n\u001b[1;32m     41\u001b[0m \u001b[0;32mif\u001b[0m \u001b[0m__name__\u001b[0m \u001b[0;34m==\u001b[0m \u001b[0;34m\"__main__\"\u001b[0m\u001b[0;34m:\u001b[0m\u001b[0;34m\u001b[0m\u001b[0;34m\u001b[0m\u001b[0m\n",
            "\u001b[0;32m<ipython-input-6-9eda264a6100>\u001b[0m in \u001b[0;36mprocess_multiple_inputs\u001b[0;34m()\u001b[0m\n\u001b[1;32m     28\u001b[0m     \u001b[0;32mfor\u001b[0m \u001b[0mi\u001b[0m \u001b[0;32min\u001b[0m \u001b[0mrange\u001b[0m\u001b[0;34m(\u001b[0m\u001b[0mnum_inputs\u001b[0m\u001b[0;34m)\u001b[0m\u001b[0;34m:\u001b[0m\u001b[0;34m\u001b[0m\u001b[0;34m\u001b[0m\u001b[0m\n\u001b[1;32m     29\u001b[0m         \u001b[0mprint\u001b[0m\u001b[0;34m(\u001b[0m\u001b[0;34mf\"Input {i+1}:\"\u001b[0m\u001b[0;34m)\u001b[0m\u001b[0;34m\u001b[0m\u001b[0;34m\u001b[0m\u001b[0m\n\u001b[0;32m---> 30\u001b[0;31m         \u001b[0mtemperature\u001b[0m \u001b[0;34m=\u001b[0m \u001b[0mfloat\u001b[0m\u001b[0;34m(\u001b[0m\u001b[0minput\u001b[0m\u001b[0;34m(\u001b[0m\u001b[0;34m\"Enter temperature (Sunny: 25, Cloudy: 20, Stormy: 15, Rainy: 10): \"\u001b[0m\u001b[0;34m)\u001b[0m\u001b[0;34m)\u001b[0m\u001b[0;34m\u001b[0m\u001b[0;34m\u001b[0m\u001b[0m\n\u001b[0m\u001b[1;32m     31\u001b[0m         \u001b[0mhumidity\u001b[0m \u001b[0;34m=\u001b[0m \u001b[0mfloat\u001b[0m\u001b[0;34m(\u001b[0m\u001b[0minput\u001b[0m\u001b[0;34m(\u001b[0m\u001b[0;34m\"Enter humidity (0-100): \"\u001b[0m\u001b[0;34m)\u001b[0m\u001b[0;34m)\u001b[0m\u001b[0;34m\u001b[0m\u001b[0;34m\u001b[0m\u001b[0m\n\u001b[1;32m     32\u001b[0m         \u001b[0mwind_speed\u001b[0m \u001b[0;34m=\u001b[0m \u001b[0mfloat\u001b[0m\u001b[0;34m(\u001b[0m\u001b[0minput\u001b[0m\u001b[0;34m(\u001b[0m\u001b[0;34m\"Enter wind speed (0-100): \"\u001b[0m\u001b[0;34m)\u001b[0m\u001b[0;34m)\u001b[0m\u001b[0;34m\u001b[0m\u001b[0;34m\u001b[0m\u001b[0m\n",
            "\u001b[0;32m/usr/local/lib/python3.11/dist-packages/ipykernel/kernelbase.py\u001b[0m in \u001b[0;36mraw_input\u001b[0;34m(self, prompt)\u001b[0m\n\u001b[1;32m    849\u001b[0m                 \u001b[0;34m\"raw_input was called, but this frontend does not support input requests.\"\u001b[0m\u001b[0;34m\u001b[0m\u001b[0;34m\u001b[0m\u001b[0m\n\u001b[1;32m    850\u001b[0m             )\n\u001b[0;32m--> 851\u001b[0;31m         return self._input_request(str(prompt),\n\u001b[0m\u001b[1;32m    852\u001b[0m             \u001b[0mself\u001b[0m\u001b[0;34m.\u001b[0m\u001b[0m_parent_ident\u001b[0m\u001b[0;34m,\u001b[0m\u001b[0;34m\u001b[0m\u001b[0;34m\u001b[0m\u001b[0m\n\u001b[1;32m    853\u001b[0m             \u001b[0mself\u001b[0m\u001b[0;34m.\u001b[0m\u001b[0m_parent_header\u001b[0m\u001b[0;34m,\u001b[0m\u001b[0;34m\u001b[0m\u001b[0;34m\u001b[0m\u001b[0m\n",
            "\u001b[0;32m/usr/local/lib/python3.11/dist-packages/ipykernel/kernelbase.py\u001b[0m in \u001b[0;36m_input_request\u001b[0;34m(self, prompt, ident, parent, password)\u001b[0m\n\u001b[1;32m    893\u001b[0m             \u001b[0;32mexcept\u001b[0m \u001b[0mKeyboardInterrupt\u001b[0m\u001b[0;34m:\u001b[0m\u001b[0;34m\u001b[0m\u001b[0;34m\u001b[0m\u001b[0m\n\u001b[1;32m    894\u001b[0m                 \u001b[0;31m# re-raise KeyboardInterrupt, to truncate traceback\u001b[0m\u001b[0;34m\u001b[0m\u001b[0;34m\u001b[0m\u001b[0m\n\u001b[0;32m--> 895\u001b[0;31m                 \u001b[0;32mraise\u001b[0m \u001b[0mKeyboardInterrupt\u001b[0m\u001b[0;34m(\u001b[0m\u001b[0;34m\"Interrupted by user\"\u001b[0m\u001b[0;34m)\u001b[0m \u001b[0;32mfrom\u001b[0m \u001b[0;32mNone\u001b[0m\u001b[0;34m\u001b[0m\u001b[0;34m\u001b[0m\u001b[0m\n\u001b[0m\u001b[1;32m    896\u001b[0m             \u001b[0;32mexcept\u001b[0m \u001b[0mException\u001b[0m \u001b[0;32mas\u001b[0m \u001b[0me\u001b[0m\u001b[0;34m:\u001b[0m\u001b[0;34m\u001b[0m\u001b[0;34m\u001b[0m\u001b[0m\n\u001b[1;32m    897\u001b[0m                 \u001b[0mself\u001b[0m\u001b[0;34m.\u001b[0m\u001b[0mlog\u001b[0m\u001b[0;34m.\u001b[0m\u001b[0mwarning\u001b[0m\u001b[0;34m(\u001b[0m\u001b[0;34m\"Invalid Message:\"\u001b[0m\u001b[0;34m,\u001b[0m \u001b[0mexc_info\u001b[0m\u001b[0;34m=\u001b[0m\u001b[0;32mTrue\u001b[0m\u001b[0;34m)\u001b[0m\u001b[0;34m\u001b[0m\u001b[0;34m\u001b[0m\u001b[0m\n",
            "\u001b[0;31mKeyboardInterrupt\u001b[0m: Interrupted by user"
          ]
        }
      ]
    },
    {
      "cell_type": "markdown",
      "source": [],
      "metadata": {
        "id": "XWAfnF2LMArX"
      }
    },
    {
      "cell_type": "markdown",
      "source": [],
      "metadata": {
        "id": "qRqtsR2YK7wP"
      }
    }
  ]
}