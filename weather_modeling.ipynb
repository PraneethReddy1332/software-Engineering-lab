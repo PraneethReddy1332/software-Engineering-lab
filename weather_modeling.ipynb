{
  "nbformat": 4,
  "nbformat_minor": 0,
  "metadata": {
    "colab": {
      "provenance": [],
      "authorship_tag": "ABX9TyMwyNOamNgvvwBiR4t2kGKJ",
      "include_colab_link": true
    },
    "kernelspec": {
      "name": "python3",
      "display_name": "Python 3"
    },
    "language_info": {
      "name": "python"
    }
  },
  "cells": [
    {
      "cell_type": "markdown",
      "metadata": {
        "id": "view-in-github",
        "colab_type": "text"
      },
      "source": [
        "<a href=\"https://colab.research.google.com/github/PraneethReddy1332/software-Engineering-lab/blob/main/weather_modeling.ipynb\" target=\"_parent\"><img src=\"https://colab.research.google.com/assets/colab-badge.svg\" alt=\"Open In Colab\"/></a>"
      ]
    },
    {
      "cell_type": "code",
      "execution_count": 1,
      "metadata": {
        "colab": {
          "base_uri": "https://localhost:8080/"
        },
        "id": "nAR3m7ExVY4X",
        "outputId": "5dfaac66-6ec7-4cf8-ded7-d1f20ff07298"
      },
      "outputs": [
        {
          "name": "stdout",
          "output_type": "stream",
          "text": [
            "Enter the coeficient for 'a': 34\n",
            "Enter the coefficient for 'b': 2\n",
            "Enter the coefficient for 'c': 3\n"
          ]
        }
      ],
      "source": [
        "import math\n",
        "\n",
        "a = int(input(\"Enter the coeficient for 'a': \"))\n",
        "b = int(input(\"Enter the coefficient for 'b': \"))\n",
        "c = int(input(\"Enter the coefficient for 'c': \"))\n",
        "\n",
        "def Quadratic_Equation(a,b,c):\n",
        "  discriminent_formula = b*b - 4*a*c\n",
        "  if discriminent_formula>0:\n",
        "    r1 = (-b+math.sqrt(discriminent_formula)/(2*a))\n",
        "    r2 = (-b-math.sqrt(discriminent_formula)/(2*a))\n",
        "    return r1,r2\n",
        "\n",
        "  elif discriminent_formula == 0:\n",
        "    r = -b/(2*a)\n",
        "    return r, None\n",
        "  else:\n",
        "    return None,None"
      ]
    }
  ]
}