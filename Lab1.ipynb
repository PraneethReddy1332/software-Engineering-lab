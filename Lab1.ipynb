{
  "nbformat": 4,
  "nbformat_minor": 0,
  "metadata": {
    "colab": {
      "provenance": [],
      "authorship_tag": "ABX9TyMNqMwDUY4/8bqMhc9ldnMm",
      "include_colab_link": true
    },
    "kernelspec": {
      "name": "python3",
      "display_name": "Python 3"
    },
    "language_info": {
      "name": "python"
    }
  },
  "cells": [
    {
      "cell_type": "markdown",
      "metadata": {
        "id": "view-in-github",
        "colab_type": "text"
      },
      "source": [
        "<a href=\"https://colab.research.google.com/github/PraneethReddy1332/software-Engineering-lab/blob/main/Lab1.ipynb\" target=\"_parent\"><img src=\"https://colab.research.google.com/assets/colab-badge.svg\" alt=\"Open In Colab\"/></a>"
      ]
    },
    {
      "cell_type": "code",
      "execution_count": 1,
      "metadata": {
        "id": "lNJdcxzeZYX3",
        "colab": {
          "base_uri": "https://localhost:8080/"
        },
        "outputId": "02bbd510-4398-4e53-82ce-31d51d3ab5cb"
      },
      "outputs": [
        {
          "output_type": "stream",
          "name": "stdout",
          "text": [
            "Enter temperature (°C): 25\n",
            "Enter humidity (%): 35\n",
            "Enter wind speed (km/h): 50\n",
            "The weather condition is likely: Summer (Hot and Dry)\n"
          ]
        }
      ],
      "source": [
        "def determine_weather(T, H, W):\n",
        "    weather_index = 0.3 * (T ** 2) - 0.3 * H + 0.1 * W - 15\n",
        "    if weather_index > 25:\n",
        "        return \"Summer (Hot and Dry)\"\n",
        "    elif 15 <= weather_index <= 25:\n",
        "        return \"Rainy (Moderate Humidity)\"\n",
        "    elif 0 <= weather_index < 15:\n",
        "        return \"Spring/Fall (Pleasant Weather)\"\n",
        "    elif -10 <= weather_index < 0:\n",
        "        return \"Winter (Cool)\"\n",
        "    else:\n",
        "        return \"Winter (Severe Cold)\"\n",
        "try:\n",
        "    T = float(input(\"Enter temperature (°C): \"))\n",
        "    H = float(input(\"Enter humidity (%): \"))\n",
        "    W = float(input(\"Enter wind speed (km/h): \"))\n",
        "    weather_condition = determine_weather(T, H, W)\n",
        "    print(f\"The weather condition is likely: {weather_condition}\")\n",
        "\n",
        "except ValueError:\n",
        "    print(\"Invalid input. Please enter numeric values for temperature, humidity, and wind speed.\")"
      ]
    }
  ]
}