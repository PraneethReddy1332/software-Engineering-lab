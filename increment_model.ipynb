{
  "nbformat": 4,
  "nbformat_minor": 0,
  "metadata": {
    "colab": {
      "provenance": [],
      "authorship_tag": "ABX9TyPLVTZq6jheyO6xLDeYaBbN",
      "include_colab_link": true
    },
    "kernelspec": {
      "name": "python3",
      "display_name": "Python 3"
    },
    "language_info": {
      "name": "python"
    }
  },
  "cells": [
    {
      "cell_type": "markdown",
      "metadata": {
        "id": "view-in-github",
        "colab_type": "text"
      },
      "source": [
        "<a href=\"https://colab.research.google.com/github/PraneethReddy1332/software-Engineering-lab/blob/main/increment_model.ipynb\" target=\"_parent\"><img src=\"https://colab.research.google.com/assets/colab-badge.svg\" alt=\"Open In Colab\"/></a>"
      ]
    },
    {
      "cell_type": "markdown",
      "source": [
        "Stage 1: Hardcoding Variables\n"
      ],
      "metadata": {
        "id": "IuYQ0d8APYjP"
      }
    },
    {
      "cell_type": "code",
      "source": [
        "# Stage 1: Hardcoding Variables\n",
        "def calculate_weather_index(T, H, Wi):\n",
        "    W = 0.5 * T**2 - 0.2 * H + 0.1 * Wi - 15\n",
        "    return W\n",
        "\n",
        "def classify_weather(W):\n",
        "    if W > 300:\n",
        "        return \"Sunny\"\n",
        "    elif 200 <= W <= 300:\n",
        "        return \"Cloudy\"\n",
        "    elif 100 <= W < 200:\n",
        "        return \"Rainy\"\n",
        "    else:\n",
        "        return \"Stormy\"\n",
        "\n",
        "# Hardcoded values\n",
        "T = 25  # temperature in Celsius\n",
        "H = 60  # humidity percentage\n",
        "Wi = 15  # wind speed in km/h\n",
        "\n",
        "# Calculate weather index\n",
        "W = calculate_weather_index(T, H, Wi)\n",
        "\n",
        "# Classify the weather\n",
        "weather_condition = classify_weather(W)\n",
        "\n",
        "print(f\"Weather: {weather_condition}\")\n"
      ],
      "metadata": {
        "colab": {
          "base_uri": "https://localhost:8080/"
        },
        "id": "qEEUN3EGPZcd",
        "outputId": "d6eec5d3-8120-4236-f22b-98fe1a957cb1"
      },
      "execution_count": 1,
      "outputs": [
        {
          "output_type": "stream",
          "name": "stdout",
          "text": [
            "Weather: Cloudy\n"
          ]
        }
      ]
    },
    {
      "cell_type": "markdown",
      "source": [
        "Stage 2: Accepting Variables via Keyboard Input\n",
        "\n"
      ],
      "metadata": {
        "id": "ap65P382PjFK"
      }
    },
    {
      "cell_type": "code",
      "source": [
        "# Stage 2: Accepting Variables via Keyboard Input\n",
        "def calculate_weather_index(T, H, Wi):\n",
        "    W = 0.5 * T**2 - 0.2 * H + 0.1 * Wi - 15\n",
        "    return W\n",
        "\n",
        "def classify_weather(W):\n",
        "    if W > 300:\n",
        "        return \"Sunny\"\n",
        "    elif 200 <= W <= 300:\n",
        "        return \"Cloudy\"\n",
        "    elif 100 <= W < 200:\n",
        "        return \"Rainy\"\n",
        "    else:\n",
        "        return \"Stormy\"\n",
        "\n",
        "# Accept user input\n",
        "T = float(input(\"Enter temperature (°C): \"))\n",
        "H = float(input(\"Enter humidity (%): \"))\n",
        "Wi = float(input(\"Enter wind speed (km/h): \"))\n",
        "\n",
        "# Calculate weather index\n",
        "W = calculate_weather_index(T, H, Wi)\n",
        "\n",
        "# Classify the weather\n",
        "weather_condition = classify_weather(W)\n",
        "\n",
        "print(f\"Weather: {weather_condition}\")\n"
      ],
      "metadata": {
        "colab": {
          "base_uri": "https://localhost:8080/"
        },
        "id": "i0Ba0dQGPmPa",
        "outputId": "5e46b46c-7f77-4891-ffb6-4851e8bb1f61"
      },
      "execution_count": 2,
      "outputs": [
        {
          "output_type": "stream",
          "name": "stdout",
          "text": [
            "Enter temperature (°C): 34\n",
            "Enter humidity (%): 23\n",
            "Enter wind speed (km/h): 78\n",
            "Weather: Sunny\n"
          ]
        }
      ]
    },
    {
      "cell_type": "markdown",
      "source": [
        "Stage 3: Reading Variables from a File\n"
      ],
      "metadata": {
        "id": "e2OACE0APrnY"
      }
    },
    {
      "cell_type": "code",
      "source": [
        "# Stage 3: Reading Variables from a File\n",
        "def calculate_weather_index(T, H, Wi):\n",
        "    W = 0.5 * T**2 - 0.2 * H + 0.1 * Wi - 15\n",
        "    return W\n",
        "\n",
        "def classify_weather(W):\n",
        "    if W > 300:\n",
        "        return \"Sunny\"\n",
        "    elif 200 <= W <= 300:\n",
        "        return \"Cloudy\"\n",
        "    elif 100 <= W < 200:\n",
        "        return \"Rainy\"\n",
        "    else:\n",
        "        return \"Stormy\"\n",
        "\n",
        "def process_file(file_path):\n",
        "    try:\n",
        "        with open(file_path, 'r') as file:\n",
        "            for line in file:\n",
        "                # Split the line into temperature, humidity, and wind speed\n",
        "                T, H, Wi = map(float, line.strip().split())\n",
        "\n",
        "                # Calculate the weather index\n",
        "                W = calculate_weather_index(T, H, Wi)\n",
        "\n",
        "                # Classify the weather\n",
        "                weather_condition = classify_weather(W)\n",
        "\n",
        "                # Print the weather condition\n",
        "                print(f\"Weather for T={T}, H={H}, Wi={Wi}: {weather_condition}\")\n",
        "    except FileNotFoundError:\n",
        "        print(\"Error: The file was not found.\")\n",
        "    except Exception as e:\n",
        "        print(f\"An error occurred: {e}\")\n",
        "\n",
        "# Specify the file path\n",
        "file_path = 'weather_data.txt'  # Ensure this file exists with the correct format\n",
        "process_file(file_path)\n",
        "\n"
      ],
      "metadata": {
        "id": "vWwYQ82FPt8L"
      },
      "execution_count": null,
      "outputs": []
    },
    {
      "cell_type": "markdown",
      "source": [
        "Stage 4: Processing a Single Set of Inputs"
      ],
      "metadata": {
        "id": "86rUx1hTPws3"
      }
    },
    {
      "cell_type": "code",
      "source": [
        "# Stage 4: Processing a Single Set of Inputs\n",
        "def calculate_weather_index(T, H, Wi):\n",
        "    W = 0.5 * T**2 - 0.2 * H + 0.1 * Wi - 15\n",
        "    return W\n",
        "\n",
        "def classify_weather(W):\n",
        "    if W > 300:\n",
        "        return \"Sunny\"\n",
        "    elif 200 <= W <= 300:\n",
        "        return \"Cloudy\"\n",
        "    elif 100 <= W < 200:\n",
        "        return \"Rainy\"\n",
        "    else:\n",
        "        return \"Stormy\"\n",
        "\n",
        "def process_single_input():\n",
        "    T = float(input(\"Enter temperature (°C): \"))\n",
        "    H = float(input(\"Enter humidity (%): \"))\n",
        "    Wi = float(input(\"Enter wind speed (km/h): \"))\n",
        "\n",
        "    W = calculate_weather_index(T, H, Wi)\n",
        "    weather_condition = classify_weather(W)\n",
        "\n",
        "    print(f\"Weather: {weather_condition}\")\n",
        "\n",
        "# Call the function for a single set of inputs\n",
        "process_single_input()\n"
      ],
      "metadata": {
        "colab": {
          "base_uri": "https://localhost:8080/"
        },
        "id": "uNTWBheDPz2B",
        "outputId": "cb31b790-49c2-4b84-a729-188ccd6fc0a5"
      },
      "execution_count": 3,
      "outputs": [
        {
          "output_type": "stream",
          "name": "stdout",
          "text": [
            "Enter temperature (°C): 45\n",
            "Enter humidity (%): 34\n",
            "Enter wind speed (km/h): 444\n",
            "Weather: Sunny\n"
          ]
        }
      ]
    },
    {
      "cell_type": "markdown",
      "source": [
        "Stage 5: Processing Multiple Sets of Inputs\n"
      ],
      "metadata": {
        "id": "mgu3ct8OQKuE"
      }
    },
    {
      "cell_type": "code",
      "source": [
        "# Stage 5: Processing Multiple Sets of Inputs\n",
        "def calculate_weather_index(T, H, Wi):\n",
        "    W = 0.5 * T**2 - 0.2 * H + 0.1 * Wi - 15\n",
        "    return W\n",
        "\n",
        "def classify_weather(W):\n",
        "    if W > 300:\n",
        "        return \"Sunny\"\n",
        "    elif 200 <= W <= 300:\n",
        "        return \"Cloudy\"\n",
        "    elif 100 <= W < 200:\n",
        "        return \"Rainy\"\n",
        "    else:\n",
        "        return \"Stormy\"\n",
        "\n",
        "def process_multiple_inputs():\n",
        "    num_sets = int(input(\"Enter the number of data sets: \"))\n",
        "    for i in range(num_sets):\n",
        "        print(f\"\\nData Set {i+1}:\")\n",
        "        T = float(input(\"  Enter temperature (°C): \"))\n",
        "        H = float(input(\"  Enter humidity (%): \"))\n",
        "        Wi = float(input(\"  Enter wind speed (km/h): \"))\n",
        "\n",
        "        W = calculate_weather_index(T, H, Wi)\n",
        "        weather_condition = classify_weather(W)\n",
        "\n",
        "        print(f\"  Weather: {weather_condition}\")\n",
        "\n",
        "# Call the function for multiple sets of inputs\n",
        "process_multiple_inputs()\n"
      ],
      "metadata": {
        "colab": {
          "base_uri": "https://localhost:8080/"
        },
        "id": "-1xJGM9SQNuC",
        "outputId": "626bf63f-5d12-46fd-aab1-bcabbb4600d5"
      },
      "execution_count": 4,
      "outputs": [
        {
          "output_type": "stream",
          "name": "stdout",
          "text": [
            "Enter the number of data sets: 4\n",
            "\n",
            "Data Set 1:\n",
            "  Enter temperature (°C): 234\n",
            "  Enter humidity (%): 234\n",
            "  Enter wind speed (km/h): 345\n",
            "  Weather: Sunny\n",
            "\n",
            "Data Set 2:\n",
            "  Enter temperature (°C): 34\n",
            "  Enter humidity (%): 56\n",
            "  Enter wind speed (km/h): 788\n",
            "  Weather: Sunny\n",
            "\n",
            "Data Set 3:\n",
            "  Enter temperature (°C): 34\n",
            "  Enter humidity (%): 67\n",
            "  Enter wind speed (km/h): 45\n",
            "  Weather: Sunny\n",
            "\n",
            "Data Set 4:\n",
            "  Enter temperature (°C): 456\n",
            "  Enter humidity (%): 456\n",
            "  Enter wind speed (km/h): 45\n",
            "  Weather: Sunny\n"
          ]
        }
      ]
    }
  ]
}